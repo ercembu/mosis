{
 "cells": [
  {
   "cell_type": "code",
   "execution_count": 1,
   "metadata": {},
   "outputs": [],
   "source": [
    "import pretty_midi\n",
    "import sys\n",
    "import os\n",
    "import numpy as np"
   ]
  },
  {
   "cell_type": "code",
   "execution_count": 2,
   "metadata": {},
   "outputs": [
    {
     "name": "stdout",
     "output_type": "stream",
     "text": [
      "/home/erd/mosis\n"
     ]
    },
    {
     "data": {
      "text/plain": [
       "'/home/erd/mosis/datasets'"
      ]
     },
     "execution_count": 2,
     "metadata": {},
     "output_type": "execute_result"
    }
   ],
   "source": [
    "os.getcwd()\n",
    "os.chdir('..')\n",
    "print(os.getcwd())\n",
    "os.chdir('datasets')\n",
    "os.getcwd()"
   ]
  },
  {
   "cell_type": "code",
   "execution_count": 9,
   "metadata": {},
   "outputs": [
    {
     "name": "stdout",
     "output_type": "stream",
     "text": [
      "/home/erd/mosis/datasets, ['beeth'], ['MidiDataset.py', 'req.txt']\n",
      "/home/erd/mosis/datasets/beeth, [], ['beethoven_hammerklavier_2.mid', 'mond_1.mid', 'appass_1.mid', 'beethoven_opus22_2.mid', 'beethoven_opus10_1.mid', 'beethoven_les_adieux_1.mid', 'appass_3.mid', 'waldstein_2.mid', 'beethoven_hammerklavier_4.mid', 'beethoven_hammerklavier_3.mid', 'beethoven_opus90_2.mid', 'beethoven_opus22_3.mid', 'mond_3.mid', 'beethoven_hammerklavier_1.mid', 'beethoven_opus10_3.mid', 'waldstein_1.mid', 'beethoven_les_adieux_2.mid', 'beethoven_les_adieux_3.mid', 'beethoven_opus90_1.mid', 'pathetique_3.mid', 'mond_2.mid', 'beethoven_opus22_1.mid', 'beethoven_opus10_2.mid', 'waldstein_3.mid', 'pathetique_2.mid', 'elise.mid', 'pathetique_1.mid', 'appass_2.mid', 'beethoven_opus22_4.mid']\n"
     ]
    }
   ],
   "source": [
    "for dir_path, dir_names, file_names in os.walk(os.getcwd()):\n",
    "    print(f'{dir_path}, {dir_names}, {file_names}')"
   ]
  },
  {
   "cell_type": "code",
   "execution_count": 10,
   "metadata": {},
   "outputs": [],
   "source": [
    "midi = pretty_midi.PrettyMIDI('/home/erd/mosis/datasets/beeth/beethoven_hammerklavier_2.mid')\n",
    "\n"
   ]
  },
  {
   "cell_type": "code",
   "execution_count": 28,
   "metadata": {},
   "outputs": [
    {
     "data": {
      "text/plain": [
       "[KeySignature(key_number=10, time=0.0),\n",
       " KeySignature(key_number=1, time=38.12451550000001),\n",
       " KeySignature(key_number=10, time=76.2274464770834),\n",
       " KeySignature(key_number=0, time=130.0019540187501),\n",
       " KeySignature(key_number=10, time=133.15144566250007)]"
      ]
     },
     "execution_count": 28,
     "metadata": {},
     "output_type": "execute_result"
    }
   ],
   "source": [
    "midi.get_beats()\n",
    "midi.get_onsets()\n",
    "midi.instruments\n",
    "midi.time_signature_changes\n",
    "midi.key_signature_changes\n"
   ]
  },
  {
   "cell_type": "code",
   "execution_count": 27,
   "metadata": {},
   "outputs": [
    {
     "data": {
      "text/plain": [
       "array([[0., 0., 0., ..., 0., 0., 0.],\n",
       "       [0., 0., 0., ..., 0., 0., 0.],\n",
       "       [0., 0., 0., ..., 0., 0., 0.],\n",
       "       ...,\n",
       "       [0., 0., 0., ..., 0., 0., 0.],\n",
       "       [0., 0., 0., ..., 0., 0., 0.],\n",
       "       [0., 0., 0., ..., 0., 0., 0.]])"
      ]
     },
     "execution_count": 27,
     "metadata": {},
     "output_type": "execute_result"
    }
   ],
   "source": [
    "inst1 = midi.instruments[0]\n",
    "inst1.program # instrument no\n",
    "inst1.get_piano_roll()"
   ]
  },
  {
   "cell_type": "code",
   "execution_count": null,
   "metadata": {},
   "outputs": [],
   "source": [
    "note1 = "
   ]
  }
 ],
 "metadata": {
  "kernelspec": {
   "display_name": "Python [conda env:mosis] *",
   "language": "python",
   "name": "conda-env-mosis-py"
  },
  "language_info": {
   "codemirror_mode": {
    "name": "ipython",
    "version": 3
   },
   "file_extension": ".py",
   "mimetype": "text/x-python",
   "name": "python",
   "nbconvert_exporter": "python",
   "pygments_lexer": "ipython3",
   "version": "3.8.12"
  }
 },
 "nbformat": 4,
 "nbformat_minor": 4
}
